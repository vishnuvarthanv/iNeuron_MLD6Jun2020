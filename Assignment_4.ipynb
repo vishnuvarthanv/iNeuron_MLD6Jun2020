{
  "nbformat": 4,
  "nbformat_minor": 0,
  "metadata": {
    "kernelspec": {
      "display_name": "Python 3",
      "language": "python",
      "name": "python3"
    },
    "language_info": {
      "codemirror_mode": {
        "name": "ipython",
        "version": 3
      },
      "file_extension": ".py",
      "mimetype": "text/x-python",
      "name": "python",
      "nbconvert_exporter": "python",
      "pygments_lexer": "ipython3",
      "version": "3.7.7"
    },
    "colab": {
      "name": "Assignment 4.ipynb",
      "provenance": [],
      "collapsed_sections": []
    }
  },
  "cells": [
    {
      "cell_type": "markdown",
      "metadata": {
        "id": "O-r9Ek4GP4eM",
        "colab_type": "text"
      },
      "source": [
        "1.1 Write a Python Program(with class concepts) to find the area of the triangle using the below\n",
        "formula.\n",
        "area = (s*(s-a)*(s-b)*(s-c)) ** 0.5\n",
        "Function to take the length of the sides of triangle from user should be defined in the parent\n",
        "class and function to calculate the area should be defined in subclass."
      ]
    },
    {
      "cell_type": "code",
      "metadata": {
        "id": "Sreu_n2IP4eN",
        "colab_type": "code",
        "colab": {
          "base_uri": "https://localhost:8080/",
          "height": 87
        },
        "outputId": "1d9b8eb5-43eb-4c72-eeef-0a8592040567"
      },
      "source": [
        "class AreaOfTriangle:\n",
        "    def __init__(self,side1,side2,side3):\n",
        "        self.side1=side1\n",
        "        self.side2=side2\n",
        "        self.side3=side3\n",
        "    \n",
        "    def CalculateAreaOfTriangle(self):\n",
        "        s=(self.side1+self.side2+self.side3)/2\n",
        "        return ((s-self.side1)*(s-self.side2)*(s-self.side3))**0.5\n",
        "    \n",
        "a=float(input('Enter the value of side 1: '))\n",
        "b=float(input('Enter the value of side 2: '))\n",
        "c=float(input('Enter the value of side 3: '))\n",
        "result = AreaOfTriangle(a,b,c).CalculateAreaOfTriangle()\n",
        "print('Area of the triangle %f'% result)"
      ],
      "execution_count": 1,
      "outputs": [
        {
          "output_type": "stream",
          "text": [
            "Enter the value of side 1: 5\n",
            "Enter the value of side 2: 6\n",
            "Enter the value of side 3: 7\n",
            "Area of the triangle 4.898979\n"
          ],
          "name": "stdout"
        }
      ]
    },
    {
      "cell_type": "markdown",
      "metadata": {
        "id": "YzEgZVA8P4eR",
        "colab_type": "text"
      },
      "source": [
        "1.2 Write a function filter_long_words() that takes a list of words and an integer n and returns the list\n",
        "of words that are longer than n.\n"
      ]
    },
    {
      "cell_type": "code",
      "metadata": {
        "id": "1EceWiGxP4eS",
        "colab_type": "code",
        "colab": {
          "base_uri": "https://localhost:8080/",
          "height": 34
        },
        "outputId": "22ed669c-6f66-4055-c2ae-942b26b038b7"
      },
      "source": [
        "def filter_long_words(args, integer):\n",
        "    wordlist=[]\n",
        "    for word in args:\n",
        "        if len(word)>integer:\n",
        "            wordlist.append(word)\n",
        "    return wordlist\n",
        "\n",
        "items = ['enter','the','value','of','side','by vishnu']\n",
        "\n",
        "filter_long_words(items, 4)"
      ],
      "execution_count": 2,
      "outputs": [
        {
          "output_type": "execute_result",
          "data": {
            "text/plain": [
              "['enter', 'value', 'by vishnu']"
            ]
          },
          "metadata": {
            "tags": []
          },
          "execution_count": 2
        }
      ]
    },
    {
      "cell_type": "markdown",
      "metadata": {
        "id": "-zrLtpj0P4eX",
        "colab_type": "text"
      },
      "source": [
        "2.1 Write a Python program using function concept that maps list of words into a list of integers\n",
        "representing the lengths of the corresponding words.\n",
        "Hint: If a list [ ab,cde,erty] is passed on to the python function output should come as [2,3,4]\n",
        "Here 2,3 and 4 are the lengths of the words in the list."
      ]
    },
    {
      "cell_type": "code",
      "metadata": {
        "id": "ioqcFXWGP4eY",
        "colab_type": "code",
        "colab": {
          "base_uri": "https://localhost:8080/",
          "height": 34
        },
        "outputId": "39e12844-4f21-49bc-865d-c8e3aca343a0"
      },
      "source": [
        "items=['ab', 'cde','erty']\n",
        "def lengthM(lst):\n",
        "    print([ len(x) for x in lst])       \n",
        "lengthM(items)"
      ],
      "execution_count": 3,
      "outputs": [
        {
          "output_type": "stream",
          "text": [
            "[2, 3, 4]\n"
          ],
          "name": "stdout"
        }
      ]
    },
    {
      "cell_type": "markdown",
      "metadata": {
        "id": "tE_6AO08P4ec",
        "colab_type": "text"
      },
      "source": [
        "2.2 Write a Python function which takes a character (i.e. a string of length 1) and returns True if it is\n",
        "a vowel, False otherwise.\n"
      ]
    },
    {
      "cell_type": "code",
      "metadata": {
        "id": "jMTE3le3P4ed",
        "colab_type": "code",
        "colab": {
          "base_uri": "https://localhost:8080/",
          "height": 52
        },
        "outputId": "2d9f696d-b177-48ca-f3f3-d3f2d8622948"
      },
      "source": [
        "def IsVowel(character):\n",
        "    vowels=['a','e','i','o','u']\n",
        "    if character in vowels:\n",
        "        return True\n",
        "    return False\n",
        "print(IsVowel('a'))\n",
        "print(IsVowel('b'))"
      ],
      "execution_count": 4,
      "outputs": [
        {
          "output_type": "stream",
          "text": [
            "True\n",
            "False\n"
          ],
          "name": "stdout"
        }
      ]
    },
    {
      "cell_type": "code",
      "metadata": {
        "id": "PGBApWNPP4eh",
        "colab_type": "code",
        "colab": {}
      },
      "source": [
        ""
      ],
      "execution_count": null,
      "outputs": []
    }
  ]
}