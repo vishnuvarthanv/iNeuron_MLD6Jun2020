{
  "nbformat": 4,
  "nbformat_minor": 0,
  "metadata": {
    "colab": {
      "name": "Logistics Regression Assignement.ipynb",
      "provenance": [],
      "collapsed_sections": [],
      "authorship_tag": "ABX9TyMXSOnjWIgDoI8zB69XhgNq",
      "include_colab_link": true
    },
    "kernelspec": {
      "name": "python3",
      "display_name": "Python 3"
    }
  },
  "cells": [
    {
      "cell_type": "markdown",
      "metadata": {
        "id": "view-in-github",
        "colab_type": "text"
      },
      "source": [
        "<a href=\"https://colab.research.google.com/github/vishnuvarthanv/iNeuron_MLD6Jun2020/blob/master/Logistics_Regression_Assignement.ipynb\" target=\"_parent\"><img src=\"https://colab.research.google.com/assets/colab-badge.svg\" alt=\"Open In Colab\"/></a>"
      ]
    },
    {
      "cell_type": "markdown",
      "metadata": {
        "id": "lRS863R_CeBc"
      },
      "source": [
        "I decided to treat this as a classification problem by creating a new binary\r\n",
        "variable affair (did the woman have at least one affair?) and trying to\r\n",
        "predict the classification for each woman.\r\n",
        "\r\n",
        "**Dataset**\r\n",
        "\r\n",
        "The dataset I chose is the affairs dataset that comes with Statsmodels. It\r\n",
        "was derived from a survey of women in 1974 by Redbook magazine, in\r\n",
        "which married women were asked about their participation in extramarital\r\n",
        "affairs. More information about the study is available in a 1978 paper from\r\n",
        "the Journal of Political Economy.\r\n",
        "\r\n",
        "**Description of Variables**\r\n",
        "\r\n",
        "The dataset contains 6366 observations of 9 variables:\r\n",
        "\r\n",
        "rate_marriage: woman's rating of her marriage (1 = very poor, 5 =\r\n",
        "very good)\r\n",
        "\r\n",
        "age: woman's age\r\n",
        "\r\n",
        "yrs_married: number of years married\r\n",
        "\r\n",
        "children: number of children\r\n",
        "\r\n",
        "religious: woman's rating of how religious she is (1 = not religious, 4 =\r\n",
        "strongly religious)\r\n",
        "\r\n",
        "educ: level of education (9 = grade school, 12 = high school, 14 =\r\n",
        "some college, 16 = college graduate, 17 = some graduate school, 20\r\n",
        "= advanced degree)\r\n",
        "\r\n",
        "occupation: woman's occupation (1 = student, 2 = farming/semiskilled/unskilled,\r\n",
        "3 = \"white collar\", 4 =\r\n",
        "teacher/nurse/writer/technician/skilled, 5 = managerial/business, 6 =\r\n",
        "professional with advanced degree)\r\n",
        "\r\n",
        "occupation_husb: husband's occupation (same coding as above)\r\n",
        "\r\n",
        "affairs: time spent in extra-marital affairs\r\n"
      ]
    },
    {
      "cell_type": "code",
      "metadata": {
        "id": "3Usn_E3bCqe4"
      },
      "source": [
        "import numpy as np\r\n",
        "import pandas as pd\r\n",
        "import statsmodels.api as sm\r\n",
        "import matplotlib.pyplot as plt\r\n",
        "from patsy import dmatrices\r\n",
        "from sklearn.linear_model import LogisticRegression \r\n",
        "from sklearn.model_selection import train_test_split, cross_val_score\r\n",
        "from sklearn import metrics \r\n",
        "#from sklearn.cross_validation import cross_val_score \r\n",
        "\r\n",
        "dta =sm.datasets.fair.load_pandas().data\r\n",
        "#add \"affair\" column: 1 represents having affairs, 0 represents not \r\n",
        "\r\n",
        "dta['affair'] = (dta.affairs >0).astype(int)\r\n",
        "y, X = dmatrices('affair ~ rate_marriage + age + yrs_married + children + religious + educ +C(occupation) + C(occupation_husb)',dta, return_type=\"dataframe\")\r\n",
        "X = X.rename(columns =\r\n",
        "{'C(occupation)[T.2.0]':'occ_2',\r\n",
        "'C(occupation)[T.3.0]':'occ_3',\r\n",
        "'C(occupation)[T.4.0]':'occ_4',\r\n",
        "'C(occupation)[T.5.0]':'occ_5',\r\n",
        "'C(occupation)[T.6.0]':'occ_6',\r\n",
        "'C(occupation_husb)[T.2.0]':'occ_husb_2',\r\n",
        "'C(occupation_husb)[T.3.0]':'occ_husb_3',\r\n",
        "'C(occupation_husb)[T.4.0]':'occ_husb_4',\r\n",
        "'C(occupation_husb)[T.5.0]':'occ_husb_5',\r\n",
        "'C(occupation_husb)[T.6.0]':'occ_husb_6'})\r\n",
        "y = np.ravel(y)"
      ],
      "execution_count": 8,
      "outputs": []
    },
    {
      "cell_type": "code",
      "metadata": {
        "colab": {
          "base_uri": "https://localhost:8080/"
        },
        "id": "9GaiZivxGSZO",
        "outputId": "9deedb82-affb-4afa-d872-c32f3c9ffc91"
      },
      "source": [
        "\r\n",
        "dta[\"affair\"].value_counts()"
      ],
      "execution_count": 9,
      "outputs": [
        {
          "output_type": "execute_result",
          "data": {
            "text/plain": [
              "0    4313\n",
              "1    2053\n",
              "Name: affair, dtype: int64"
            ]
          },
          "metadata": {
            "tags": []
          },
          "execution_count": 9
        }
      ]
    },
    {
      "cell_type": "code",
      "metadata": {
        "colab": {
          "base_uri": "https://localhost:8080/",
          "height": 312
        },
        "id": "seWiB1fxGgFW",
        "outputId": "de0b3278-3350-4945-87e6-a34b7ed55783"
      },
      "source": [
        "import seaborn as sns\r\n",
        "sns.countplot(x=dta[\"affair\"]).set(title = 'affair or not')"
      ],
      "execution_count": 11,
      "outputs": [
        {
          "output_type": "execute_result",
          "data": {
            "text/plain": [
              "[Text(0.5, 1.0, 'affair or not')]"
            ]
          },
          "metadata": {
            "tags": []
          },
          "execution_count": 11
        },
        {
          "output_type": "display_data",
          "data": {
            "image/png": "[encoded data removed]",
            "text/plain": [
              "<Figure size 432x288 with 1 Axes>"
            ]
          },
          "metadata": {
            "tags": [],
            "needs_background": "light"
          }
        }
      ]
    },
    {
      "cell_type": "code",
      "metadata": {
        "colab": {
          "base_uri": "https://localhost:8080/",
          "height": 313
        },
        "id": "Gc7g74rxGtP2",
        "outputId": "d1e0f338-eae5-4e6d-b50e-93161432f29d"
      },
      "source": [
        "sns.countplot(x=dta[\"rate_marriage\"]).set(title = 'Marriage Rating')"
      ],
      "execution_count": 12,
      "outputs": [
        {
          "output_type": "execute_result",
          "data": {
            "text/plain": [
              "[Text(0.5, 1.0, 'Marriage Rating')]"
            ]
          },
          "metadata": {
            "tags": []
          },
          "execution_count": 12
        },
        {
          "output_type": "display_data",
          "data": {
            "image/png": "[encoded data removed]",
            "text/plain": [
              "<Figure size 432x288 with 1 Axes>"
            ]
          },
          "metadata": {
            "tags": [],
            "needs_background": "light"
          }
        }
      ]
    },
    {
      "cell_type": "code",
      "metadata": {
        "id": "F5DD3tnsGx0P"
      },
      "source": [
        "sns.distplot(dta[\"age\"]).set(title = \"Distribution of Women's Age\")"
      ],
      "execution_count": null,
      "outputs": []
    },
    {
      "cell_type": "code",
      "metadata": {
        "id": "JCSmH4qCGyYX"
      },
      "source": [
        "sns.countplot(x=dta[\"children\"]).set(title = 'Number of Children')"
      ],
      "execution_count": null,
      "outputs": []
    },
    {
      "cell_type": "code",
      "metadata": {
        "id": "TsVQOLfwG2JG"
      },
      "source": [
        "sns.countplot(x=dta[\"religious\"])"
      ],
      "execution_count": null,
      "outputs": []
    },
    {
      "cell_type": "code",
      "metadata": {
        "id": "ZElFVO39G4L_"
      },
      "source": [
        "sns.countplot(x=dta[\"educ\"]).set(title = \"Education Level\")"
      ],
      "execution_count": null,
      "outputs": []
    },
    {
      "cell_type": "code",
      "metadata": {
        "id": "q6fNCR3TG6Ee"
      },
      "source": [
        "sns.distplot(dta[\"occupation\"]).set(title = \"Women's Occupation\")"
      ],
      "execution_count": null,
      "outputs": []
    },
    {
      "cell_type": "code",
      "metadata": {
        "id": "iFa-RZXiG7wv"
      },
      "source": [
        "sns.distplot(dta[\"occupation_husb\"]).set(title = \"Husband's Occupation\")"
      ],
      "execution_count": null,
      "outputs": []
    },
    {
      "cell_type": "code",
      "metadata": {
        "id": "-LaB5Q-oG9nx"
      },
      "source": [
        "plt.figure(figsize=(10,10))\r\n",
        "sns.heatmap(dta.corr(),annot=True)"
      ],
      "execution_count": null,
      "outputs": []
    },
    {
      "cell_type": "code",
      "metadata": {
        "id": "7Ia2VFrTG_Z3"
      },
      "source": [
        "X_train,X_test,y_train,y_test = train_test_split(X,y,test_size=0.3,random_state=42)"
      ],
      "execution_count": 13,
      "outputs": []
    },
    {
      "cell_type": "code",
      "metadata": {
        "colab": {
          "base_uri": "https://localhost:8080/"
        },
        "id": "mXm6KNtjHD3f",
        "outputId": "987d5a00-7f7d-417b-a743-bd3242e8af98"
      },
      "source": [
        "print(f'Shape of train feature:{X_train.shape}')\r\n",
        "print(f'Shape of test feature :{X_test.shape}')\r\n",
        "print(f'Shape of train target :{y_train.shape}')\r\n",
        "print(f'Shape of test target  :{y_test.shape}')"
      ],
      "execution_count": 14,
      "outputs": [
        {
          "output_type": "stream",
          "text": [
            "Shape of train feature:(4456, 17)\n",
            "Shape of test feature :(1910, 17)\n",
            "Shape of train target :(4456,)\n",
            "Shape of test target  :(1910,)\n"
          ],
          "name": "stdout"
        }
      ]
    },
    {
      "cell_type": "code",
      "metadata": {
        "id": "7ziq3tG5HIKQ"
      },
      "source": [
        "\r\n",
        "from sklearn.metrics import accuracy_score,classification_report,confusion_matrix\r\n",
        "from sklearn.model_selection import cross_val_score\r\n",
        "from collections import Counter\r\n",
        "\r\n",
        "#import scikitplot.metrics as skplt"
      ],
      "execution_count": 16,
      "outputs": []
    },
    {
      "cell_type": "code",
      "metadata": {
        "colab": {
          "base_uri": "https://localhost:8080/"
        },
        "id": "asSEa3nzHJgn",
        "outputId": "436cffb8-7eb6-4589-e291-fddaa2a937e5"
      },
      "source": [
        "model_lr =LogisticRegression()\r\n",
        "\r\n",
        "model_lr.fit(X_train,y_train)"
      ],
      "execution_count": 17,
      "outputs": [
        {
          "output_type": "stream",
          "text": [
            "/usr/local/lib/python3.6/dist-packages/sklearn/linear_model/_logistic.py:940: ConvergenceWarning: lbfgs failed to converge (status=1):\n",
            "STOP: TOTAL NO. of ITERATIONS REACHED LIMIT.\n",
            "\n",
            "Increase the number of iterations (max_iter) or scale the data as shown in:\n",
            "    https://scikit-learn.org/stable/modules/preprocessing.html\n",
            "Please also refer to the documentation for alternative solver options:\n",
            "    https://scikit-learn.org/stable/modules/linear_model.html#logistic-regression\n",
            "  extra_warning_msg=_LOGISTIC_SOLVER_CONVERGENCE_MSG)\n"
          ],
          "name": "stderr"
        },
        {
          "output_type": "execute_result",
          "data": {
            "text/plain": [
              "LogisticRegression(C=1.0, class_weight=None, dual=False, fit_intercept=True,\n",
              "                   intercept_scaling=1, l1_ratio=None, max_iter=100,\n",
              "                   multi_class='auto', n_jobs=None, penalty='l2',\n",
              "                   random_state=None, solver='lbfgs', tol=0.0001, verbose=0,\n",
              "                   warm_start=False)"
            ]
          },
          "metadata": {
            "tags": []
          },
          "execution_count": 17
        }
      ]
    },
    {
      "cell_type": "code",
      "metadata": {
        "id": "G-TsQl5PHeVH"
      },
      "source": [
        "y_pred = model_lr.predict(X_test)"
      ],
      "execution_count": 18,
      "outputs": []
    },
    {
      "cell_type": "code",
      "metadata": {
        "id": "lxiyQZ4eH1w2"
      },
      "source": [
        "from sklearn.metrics import classification_report,accuracy_score,roc_auc_score,confusion_matrix"
      ],
      "execution_count": 21,
      "outputs": []
    },
    {
      "cell_type": "code",
      "metadata": {
        "colab": {
          "base_uri": "https://localhost:8080/"
        },
        "id": "1n7umGf8H2Z5",
        "outputId": "baf0b48c-4dad-418c-edc1-545fcf57a5f0"
      },
      "source": [
        "print(f'Classification report : {classification_report(y_test,y_pred)}')"
      ],
      "execution_count": 23,
      "outputs": [
        {
          "output_type": "stream",
          "text": [
            "Classification report :               precision    recall  f1-score   support\n",
            "\n",
            "         0.0       0.75      0.90      0.81      1275\n",
            "         1.0       0.65      0.39      0.49       635\n",
            "\n",
            "    accuracy                           0.73      1910\n",
            "   macro avg       0.70      0.64      0.65      1910\n",
            "weighted avg       0.72      0.73      0.71      1910\n",
            "\n"
          ],
          "name": "stdout"
        }
      ]
    },
    {
      "cell_type": "code",
      "metadata": {
        "colab": {
          "base_uri": "https://localhost:8080/"
        },
        "id": "CbUQZnQvIAbA",
        "outputId": "572a1a71-93f1-4401-acb2-9d9d464e7f19"
      },
      "source": [
        "print(f'Accuracy Score : {accuracy_score(y_test,y_pred)}')\r\n",
        "print(f'Roc_Auc_Score : {roc_auc_score(y_test,y_pred)}')\r\n",
        "print(f'Confusion Matrix : {confusion_matrix(y_test,y_pred)}')\r\n",
        "\r\n"
      ],
      "execution_count": 24,
      "outputs": [
        {
          "output_type": "stream",
          "text": [
            "Accuracy Score : 0.7277486910994765\n",
            "Roc_Auc_Score : 0.6419329936699089\n",
            "Confusion Matrix : [[1145  130]\n",
            " [ 390  245]]\n"
          ],
          "name": "stdout"
        }
      ]
    },
    {
      "cell_type": "code",
      "metadata": {
        "colab": {
          "base_uri": "https://localhost:8080/"
        },
        "id": "UBQSkJ7pH5PS",
        "outputId": "2d7684b8-2121-49ed-d470-69625ffd81a3"
      },
      "source": [
        "from sklearn.model_selection import cross_val_score\r\n",
        "scores = cross_val_score(LogisticRegression(), X, y, scoring='accuracy', cv=10)\r\n",
        "scores"
      ],
      "execution_count": 25,
      "outputs": [
        {
          "output_type": "stream",
          "text": [
            "/usr/local/lib/python3.6/dist-packages/sklearn/linear_model/_logistic.py:940: ConvergenceWarning: lbfgs failed to converge (status=1):\n",
            "STOP: TOTAL NO. of ITERATIONS REACHED LIMIT.\n",
            "\n",
            "Increase the number of iterations (max_iter) or scale the data as shown in:\n",
            "    https://scikit-learn.org/stable/modules/preprocessing.html\n",
            "Please also refer to the documentation for alternative solver options:\n",
            "    https://scikit-learn.org/stable/modules/linear_model.html#logistic-regression\n",
            "  extra_warning_msg=_LOGISTIC_SOLVER_CONVERGENCE_MSG)\n",
            "/usr/local/lib/python3.6/dist-packages/sklearn/linear_model/_logistic.py:940: ConvergenceWarning: lbfgs failed to converge (status=1):\n",
            "STOP: TOTAL NO. of ITERATIONS REACHED LIMIT.\n",
            "\n",
            "Increase the number of iterations (max_iter) or scale the data as shown in:\n",
            "    https://scikit-learn.org/stable/modules/preprocessing.html\n",
            "Please also refer to the documentation for alternative solver options:\n",
            "    https://scikit-learn.org/stable/modules/linear_model.html#logistic-regression\n",
            "  extra_warning_msg=_LOGISTIC_SOLVER_CONVERGENCE_MSG)\n",
            "/usr/local/lib/python3.6/dist-packages/sklearn/linear_model/_logistic.py:940: ConvergenceWarning: lbfgs failed to converge (status=1):\n",
            "STOP: TOTAL NO. of ITERATIONS REACHED LIMIT.\n",
            "\n",
            "Increase the number of iterations (max_iter) or scale the data as shown in:\n",
            "    https://scikit-learn.org/stable/modules/preprocessing.html\n",
            "Please also refer to the documentation for alternative solver options:\n",
            "    https://scikit-learn.org/stable/modules/linear_model.html#logistic-regression\n",
            "  extra_warning_msg=_LOGISTIC_SOLVER_CONVERGENCE_MSG)\n",
            "/usr/local/lib/python3.6/dist-packages/sklearn/linear_model/_logistic.py:940: ConvergenceWarning: lbfgs failed to converge (status=1):\n",
            "STOP: TOTAL NO. of ITERATIONS REACHED LIMIT.\n",
            "\n",
            "Increase the number of iterations (max_iter) or scale the data as shown in:\n",
            "    https://scikit-learn.org/stable/modules/preprocessing.html\n",
            "Please also refer to the documentation for alternative solver options:\n",
            "    https://scikit-learn.org/stable/modules/linear_model.html#logistic-regression\n",
            "  extra_warning_msg=_LOGISTIC_SOLVER_CONVERGENCE_MSG)\n",
            "/usr/local/lib/python3.6/dist-packages/sklearn/linear_model/_logistic.py:940: ConvergenceWarning: lbfgs failed to converge (status=1):\n",
            "STOP: TOTAL NO. of ITERATIONS REACHED LIMIT.\n",
            "\n",
            "Increase the number of iterations (max_iter) or scale the data as shown in:\n",
            "    https://scikit-learn.org/stable/modules/preprocessing.html\n",
            "Please also refer to the documentation for alternative solver options:\n",
            "    https://scikit-learn.org/stable/modules/linear_model.html#logistic-regression\n",
            "  extra_warning_msg=_LOGISTIC_SOLVER_CONVERGENCE_MSG)\n",
            "/usr/local/lib/python3.6/dist-packages/sklearn/linear_model/_logistic.py:940: ConvergenceWarning: lbfgs failed to converge (status=1):\n",
            "STOP: TOTAL NO. of ITERATIONS REACHED LIMIT.\n",
            "\n",
            "Increase the number of iterations (max_iter) or scale the data as shown in:\n",
            "    https://scikit-learn.org/stable/modules/preprocessing.html\n",
            "Please also refer to the documentation for alternative solver options:\n",
            "    https://scikit-learn.org/stable/modules/linear_model.html#logistic-regression\n",
            "  extra_warning_msg=_LOGISTIC_SOLVER_CONVERGENCE_MSG)\n",
            "/usr/local/lib/python3.6/dist-packages/sklearn/linear_model/_logistic.py:940: ConvergenceWarning: lbfgs failed to converge (status=1):\n",
            "STOP: TOTAL NO. of ITERATIONS REACHED LIMIT.\n",
            "\n",
            "Increase the number of iterations (max_iter) or scale the data as shown in:\n",
            "    https://scikit-learn.org/stable/modules/preprocessing.html\n",
            "Please also refer to the documentation for alternative solver options:\n",
            "    https://scikit-learn.org/stable/modules/linear_model.html#logistic-regression\n",
            "  extra_warning_msg=_LOGISTIC_SOLVER_CONVERGENCE_MSG)\n",
            "/usr/local/lib/python3.6/dist-packages/sklearn/linear_model/_logistic.py:940: ConvergenceWarning: lbfgs failed to converge (status=1):\n",
            "STOP: TOTAL NO. of ITERATIONS REACHED LIMIT.\n",
            "\n",
            "Increase the number of iterations (max_iter) or scale the data as shown in:\n",
            "    https://scikit-learn.org/stable/modules/preprocessing.html\n",
            "Please also refer to the documentation for alternative solver options:\n",
            "    https://scikit-learn.org/stable/modules/linear_model.html#logistic-regression\n",
            "  extra_warning_msg=_LOGISTIC_SOLVER_CONVERGENCE_MSG)\n",
            "/usr/local/lib/python3.6/dist-packages/sklearn/linear_model/_logistic.py:940: ConvergenceWarning: lbfgs failed to converge (status=1):\n",
            "STOP: TOTAL NO. of ITERATIONS REACHED LIMIT.\n",
            "\n",
            "Increase the number of iterations (max_iter) or scale the data as shown in:\n",
            "    https://scikit-learn.org/stable/modules/preprocessing.html\n",
            "Please also refer to the documentation for alternative solver options:\n",
            "    https://scikit-learn.org/stable/modules/linear_model.html#logistic-regression\n",
            "  extra_warning_msg=_LOGISTIC_SOLVER_CONVERGENCE_MSG)\n",
            "/usr/local/lib/python3.6/dist-packages/sklearn/linear_model/_logistic.py:940: ConvergenceWarning: lbfgs failed to converge (status=1):\n",
            "STOP: TOTAL NO. of ITERATIONS REACHED LIMIT.\n",
            "\n",
            "Increase the number of iterations (max_iter) or scale the data as shown in:\n",
            "    https://scikit-learn.org/stable/modules/preprocessing.html\n",
            "Please also refer to the documentation for alternative solver options:\n",
            "    https://scikit-learn.org/stable/modules/linear_model.html#logistic-regression\n",
            "  extra_warning_msg=_LOGISTIC_SOLVER_CONVERGENCE_MSG)\n"
          ],
          "name": "stderr"
        },
        {
          "output_type": "execute_result",
          "data": {
            "text/plain": [
              "array([0.72213501, 0.69858713, 0.73783359, 0.70800628, 0.71585557,\n",
              "       0.72841444, 0.73113208, 0.70440252, 0.75      , 0.75314465])"
            ]
          },
          "metadata": {
            "tags": []
          },
          "execution_count": 25
        }
      ]
    },
    {
      "cell_type": "code",
      "metadata": {
        "colab": {
          "base_uri": "https://localhost:8080/"
        },
        "id": "PLYzaR-fIQSw",
        "outputId": "16dede39-65be-4e8e-ffd6-65b3ae9a0325"
      },
      "source": [
        "scores.mean()"
      ],
      "execution_count": 26,
      "outputs": [
        {
          "output_type": "execute_result",
          "data": {
            "text/plain": [
              "0.7249511270400758"
            ]
          },
          "metadata": {
            "tags": []
          },
          "execution_count": 26
        }
      ]
    }
  ]
}